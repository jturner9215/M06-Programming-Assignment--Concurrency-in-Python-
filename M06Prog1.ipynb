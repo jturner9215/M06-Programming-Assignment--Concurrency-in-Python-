{
 "cells": [
  {
   "cell_type": "code",
   "execution_count": 7,
   "id": "b05361b3",
   "metadata": {},
   "outputs": [
    {
     "data": {
      "text/plain": [
       "['Sun Jul 16 13:02:25 2023']"
      ]
     },
     "execution_count": 7,
     "metadata": {},
     "output_type": "execute_result"
    }
   ],
   "source": [
    "import time\n",
    "now = time.time()\n",
    "now\n",
    "\n",
    "with open('today.txt', 'w') as f:\n",
    "    f.write(time.ctime(now))\n",
    "    \n",
    "with open('today.txt') as f:\n",
    "    lines = f.readlines()\n",
    "    \n",
    "lines"
   ]
  },
  {
   "cell_type": "code",
   "execution_count": 11,
   "id": "2527ab72",
   "metadata": {},
   "outputs": [
    {
     "name": "stdout",
     "output_type": "stream",
     "text": [
      "Current info is Sun Jul 16 13:35:46 2023\n",
      "Current info is Sun Jul 16 13:35:47 2023\n",
      "Current info is Sun Jul 16 13:35:47 2023\n"
     ]
    }
   ],
   "source": [
    "import multiprocessing\n",
    "import random\n",
    "import time\n",
    "import os\n",
    "\n",
    "\n",
    "def processTime():\n",
    "    \n",
    "   now = time.time()\n",
    "   current = time.ctime(now)\n",
    "   print(\"Current info is {}\".format(current))\n",
    "   time.sleep(random.random())\n",
    "\n",
    "proc1 = multiprocessing.Process(target=processTime())\n",
    "proc2 = multiprocessing.Process(target=processTime())\n",
    "proc3 = multiprocessing.Process(target=processTime())\n",
    "\n",
    "proc1.start()\n",
    "proc2.start()\n",
    "proc3.start()\n",
    "\n",
    "proc1.join()\n",
    "proc2.join()\n",
    "proc3.join()"
   ]
  },
  {
   "cell_type": "code",
   "execution_count": null,
   "id": "dd057a51",
   "metadata": {},
   "outputs": [],
   "source": []
  }
 ],
 "metadata": {
  "kernelspec": {
   "display_name": "Python 3 (ipykernel)",
   "language": "python",
   "name": "python3"
  },
  "language_info": {
   "codemirror_mode": {
    "name": "ipython",
    "version": 3
   },
   "file_extension": ".py",
   "mimetype": "text/x-python",
   "name": "python",
   "nbconvert_exporter": "python",
   "pygments_lexer": "ipython3",
   "version": "3.10.9"
  }
 },
 "nbformat": 4,
 "nbformat_minor": 5
}
